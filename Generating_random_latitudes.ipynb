{
 "cells": [
  {
   "cell_type": "code",
   "execution_count": 1,
   "id": "1dcb9919",
   "metadata": {},
   "outputs": [],
   "source": [
    "# Import the random module\n",
    "import random"
   ]
  },
  {
   "cell_type": "code",
   "execution_count": 2,
   "id": "e13e8ac0",
   "metadata": {},
   "outputs": [
    {
     "data": {
      "text/plain": [
       "-49"
      ]
     },
     "execution_count": 2,
     "metadata": {},
     "output_type": "execute_result"
    }
   ],
   "source": [
    "# Generate a single random number\n",
    "random.randint(-90,90)"
   ]
  },
  {
   "cell_type": "code",
   "execution_count": 3,
   "id": "5084e379",
   "metadata": {},
   "outputs": [
    {
     "data": {
      "text/plain": [
       "0.7835799483229471"
      ]
     },
     "execution_count": 3,
     "metadata": {},
     "output_type": "execute_result"
    }
   ],
   "source": [
    "# Generate a single random floating number between 0 and 1\n",
    "random.random()"
   ]
  },
  {
   "cell_type": "code",
   "execution_count": 5,
   "id": "5f6862ab",
   "metadata": {},
   "outputs": [
    {
     "name": "stdout",
     "output_type": "stream",
     "text": [
      "[60.16478360146925, 44.594121187668954, 4.084487824419637, 26.19822940383896, 75.80120520094073, 85.41950050639751, 73.59485143321552, -23.111084561957725, 2.3067111210126208, -6.278322614491562]\n"
     ]
    }
   ],
   "source": [
    "# Generate a set of random latitudes\n",
    "x = 1\n",
    "latitudes = []\n",
    "while x < 11:\n",
    "    random_lat = random.random() + random.randint(-90,89)\n",
    "    latitudes.append(random_lat)\n",
    "    x += 1\n",
    "print (latitudes)\n",
    "    "
   ]
  },
  {
   "cell_type": "code",
   "execution_count": 6,
   "id": "5e63bebc",
   "metadata": {},
   "outputs": [],
   "source": [
    "# Use numpy to generate random numbers\n",
    "import numpy as np"
   ]
  },
  {
   "cell_type": "code",
   "execution_count": 7,
   "id": "c2e025a3",
   "metadata": {},
   "outputs": [
    {
     "data": {
      "text/plain": [
       "-11.048546001407018"
      ]
     },
     "execution_count": 7,
     "metadata": {},
     "output_type": "execute_result"
    }
   ],
   "source": [
    "np.random.uniform (-90.000, 90.000)"
   ]
  },
  {
   "cell_type": "code",
   "execution_count": 8,
   "id": "9fb77191",
   "metadata": {},
   "outputs": [
    {
     "data": {
      "text/plain": [
       "array([ 37.47911813, -65.57255508, -46.21140295,  21.18338826,\n",
       "       -10.06547218,  39.19005674, -79.45578203,   4.33257344,\n",
       "        74.4174632 , -74.96680276,  35.84056757,  46.9166844 ,\n",
       "        71.61447505, -63.49080067,  57.52701171, -50.90099066,\n",
       "        70.22950306,   2.56437771, -63.6798338 , -59.82712878,\n",
       "         9.64051527, -20.4394656 ,  24.84395524, -45.91546541,\n",
       "       -46.26536836, -61.39696516, -31.18679794, -31.5555595 ,\n",
       "        12.01054106, -80.49948102,   2.0338499 ,   3.06738235,\n",
       "        22.94622164, -23.3501731 , -17.14193259,  74.94995728,\n",
       "        84.94952292,  60.16018242,  46.41678251, -50.59958987,\n",
       "       -30.74924695,  61.82835145, -10.21772394,   2.43760524,\n",
       "       -50.93115211, -55.44834311,   4.83272618, -81.71478688,\n",
       "        11.62176829, -27.59055418])"
      ]
     },
     "execution_count": 8,
     "metadata": {},
     "output_type": "execute_result"
    }
   ],
   "source": [
    "np.random.uniform(-90.000, 90.000, size = 50)"
   ]
  },
  {
   "cell_type": "code",
   "execution_count": 9,
   "id": "aaed3959",
   "metadata": {},
   "outputs": [],
   "source": [
    "# To test how long a piece of code or function takes to run, we can import the \"timeit\" module and use the %timeit \n",
    "# magic command when we run our code or call the function.\n",
    "\n",
    "# Import timeit.\n",
    "import timeit"
   ]
  },
  {
   "cell_type": "code",
   "execution_count": 10,
   "id": "3efbc1ac",
   "metadata": {},
   "outputs": [
    {
     "name": "stdout",
     "output_type": "stream",
     "text": [
      "17.3 µs ± 544 ns per loop (mean ± std. dev. of 7 runs, 100000 loops each)\n"
     ]
    }
   ],
   "source": [
    "%timeit np.random.uniform(-90.000, 90.000, size=1500)"
   ]
  },
  {
   "cell_type": "code",
   "execution_count": 11,
   "id": "77f74509",
   "metadata": {},
   "outputs": [
    {
     "name": "stdout",
     "output_type": "stream",
     "text": [
      "2.56 ms ± 97.9 µs per loop (mean ± std. dev. of 7 runs, 100 loops each)\n"
     ]
    }
   ],
   "source": [
    "\n",
    "def latitudes(size):\n",
    "    latitudes = []\n",
    "    x = 0\n",
    "    while x < (size):\n",
    "        random_lat = random.randint(-90, 90) + random.random()\n",
    "        latitudes.append(random_lat)\n",
    "        x += 1\n",
    "    return latitudes\n",
    "# Call the function with 1500.\n",
    "%timeit latitudes(1500)"
   ]
  },
  {
   "cell_type": "code",
   "execution_count": null,
   "id": "ec90a277",
   "metadata": {},
   "outputs": [],
   "source": []
  }
 ],
 "metadata": {
  "kernelspec": {
   "display_name": "PythonData",
   "language": "python",
   "name": "pythondata"
  },
  "language_info": {
   "codemirror_mode": {
    "name": "ipython",
    "version": 3
   },
   "file_extension": ".py",
   "mimetype": "text/x-python",
   "name": "python",
   "nbconvert_exporter": "python",
   "pygments_lexer": "ipython3",
   "version": "3.7.0"
  }
 },
 "nbformat": 4,
 "nbformat_minor": 5
}
